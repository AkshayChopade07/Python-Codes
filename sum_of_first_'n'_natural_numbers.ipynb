{
  "nbformat": 4,
  "nbformat_minor": 0,
  "metadata": {
    "colab": {
      "name": "sum of first 'n' natural numbers.ipynb",
      "provenance": [],
      "collapsed_sections": []
    },
    "kernelspec": {
      "name": "python3",
      "display_name": "Python 3"
    },
    "language_info": {
      "name": "python"
    }
  },
  "cells": [
    {
      "cell_type": "code",
      "metadata": {
        "colab": {
          "base_uri": "https://localhost:8080/"
        },
        "id": "YJJCs3JjjyrQ",
        "outputId": "5a44c7d6-66ad-4d41-c0b7-f5a73aef0f0a"
      },
      "source": [
        "#By using for loop\n",
        "\n",
        "n=int(input(\"Enter the value:\",))\n",
        "sum=0\n",
        "for i in range(1,n+1):\n",
        "  sum=sum+i\n",
        "  print(\"Sum of n :\",sum)"
      ],
      "execution_count": 11,
      "outputs": [
        {
          "output_type": "stream",
          "text": [
            "Enter the value:7\n",
            "Sum of n : 1\n",
            "Sum of n : 3\n",
            "Sum of n : 6\n",
            "Sum of n : 10\n",
            "Sum of n : 15\n",
            "Sum of n : 21\n",
            "Sum of n : 28\n"
          ],
          "name": "stdout"
        }
      ]
    },
    {
      "cell_type": "code",
      "metadata": {
        "colab": {
          "base_uri": "https://localhost:8080/"
        },
        "id": "cKXafDaGl899",
        "outputId": "fdcdcca9-9b4b-410e-dd79-6a94f5156f8c"
      },
      "source": [
        "#By using while loop\n",
        "\n",
        "n=int(input(\"Enter a  number:\"))\n",
        "sum=0\n",
        "i=1\n",
        "while i<=n:\n",
        "  sum = sum+i\n",
        "  i=i+1\n",
        "  print(\"Sum of numbers:\",sum)"
      ],
      "execution_count": 14,
      "outputs": [
        {
          "output_type": "stream",
          "text": [
            "Enter a  number:4\n",
            "Sum of numbers: 1\n",
            "Sum of numbers: 3\n",
            "Sum of numbers: 6\n",
            "Sum of numbers: 10\n"
          ],
          "name": "stdout"
        }
      ]
    }
  ]
}